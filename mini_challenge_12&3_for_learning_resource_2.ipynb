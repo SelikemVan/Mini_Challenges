{
  "nbformat": 4,
  "nbformat_minor": 0,
  "metadata": {
    "colab": {
      "provenance": [],
      "authorship_tag": "ABX9TyMOitvESWwxOhbsObMXnDpY",
      "include_colab_link": true
    },
    "kernelspec": {
      "name": "python3",
      "display_name": "Python 3"
    },
    "language_info": {
      "name": "python"
    }
  },
  "cells": [
    {
      "cell_type": "markdown",
      "metadata": {
        "id": "view-in-github",
        "colab_type": "text"
      },
      "source": [
        "<a href=\"https://colab.research.google.com/github/SelikemVan/Mini_Challenges/blob/main/mini_challenge_12%263_for_learning_resource_2.ipynb\" target=\"_parent\"><img src=\"https://colab.research.google.com/assets/colab-badge.svg\" alt=\"Open In Colab\"/></a>"
      ]
    },
    {
      "cell_type": "code",
      "execution_count": null,
      "metadata": {
        "colab": {
          "base_uri": "https://localhost:8080/"
        },
        "id": "L5JqqDCjUzal",
        "outputId": "0d363a64-55c0-4381-b15a-2b85647052ad"
      },
      "outputs": [
        {
          "output_type": "stream",
          "name": "stdout",
          "text": [
            "True\n",
            "False\n"
          ]
        }
      ],
      "source": [
        "#Mini Challenge#1\n",
        "\n",
        "number_of_pens = 20\n",
        "number_of_bicycles = 30\n",
        "print((number_of_pens < number_of_bicycles))\n",
        "print(number_of_pens == number_of_bicycles)"
      ]
    },
    {
      "cell_type": "code",
      "source": [
        "#Mini Challenge #2\n",
        "\n",
        "List_1 = [\"name\", \"age\", \"sex\", \"Kofi\", \"222\", \"Ama\", \"Yaw\"]\n",
        "print(List_1[0])\n",
        "print(List_1[1])\n",
        "print(List_1[6])"
      ],
      "metadata": {
        "colab": {
          "base_uri": "https://localhost:8080/"
        },
        "id": "-GdvnlkrU-Cj",
        "outputId": "1de85eaa-9c24-42b0-e588-ec7fa6a2d7e3"
      },
      "execution_count": null,
      "outputs": [
        {
          "output_type": "stream",
          "name": "stdout",
          "text": [
            "name\n",
            "age\n",
            "Yaw\n"
          ]
        }
      ]
    },
    {
      "cell_type": "code",
      "source": [
        "print(List_1[0])\n",
        "print(List_1[1])\n",
        "print(List_1[2])\n",
        "print(List_1[3])\n",
        "print(List_1[4])\n",
        "print(List_1[5])\n",
        "print(List_1[6])"
      ],
      "metadata": {
        "colab": {
          "base_uri": "https://localhost:8080/"
        },
        "id": "v1aVsdc3Vcb0",
        "outputId": "874c2014-2db8-4d2a-b21b-ac0804237723"
      },
      "execution_count": null,
      "outputs": [
        {
          "output_type": "stream",
          "name": "stdout",
          "text": [
            "name\n",
            "age\n",
            "sex\n",
            "Kofi\n",
            "222\n",
            "Ama\n",
            "Yaw\n"
          ]
        }
      ]
    },
    {
      "cell_type": "code",
      "source": [
        "print(List_1[0])\n",
        "print(List_1[1])\n",
        "print(List_1[2])"
      ],
      "metadata": {
        "colab": {
          "base_uri": "https://localhost:8080/"
        },
        "id": "wVbUrSTIVonI",
        "outputId": "c4582a91-fb10-4324-d3d2-f6bd98a6913a"
      },
      "execution_count": null,
      "outputs": [
        {
          "output_type": "stream",
          "name": "stdout",
          "text": [
            "name\n",
            "age\n",
            "sex\n"
          ]
        }
      ]
    },
    {
      "cell_type": "code",
      "source": [
        "print(List_1[4])\n",
        "print(List_1[5])\n",
        "print(List_1[6])"
      ],
      "metadata": {
        "colab": {
          "base_uri": "https://localhost:8080/"
        },
        "id": "6qJhLNddVtR1",
        "outputId": "4a9df05d-a3ea-4d05-b57e-fdef20f5807a"
      },
      "execution_count": null,
      "outputs": [
        {
          "output_type": "stream",
          "name": "stdout",
          "text": [
            "222\n",
            "Ama\n",
            "Yaw\n"
          ]
        }
      ]
    },
    {
      "cell_type": "code",
      "source": [
        "#Mini Challenge#3\n",
        "\n",
        "my_list = [\"KWAMI\", [\"AGE\", \"NAME\", \"KOFI\"], \"YAW\", \"T\"]\n",
        "print(my_list[1][1])"
      ],
      "metadata": {
        "colab": {
          "base_uri": "https://localhost:8080/"
        },
        "id": "O9yC-oLMWAP_",
        "outputId": "6107e6c6-b61c-4127-9614-8d25190f6624"
      },
      "execution_count": null,
      "outputs": [
        {
          "output_type": "stream",
          "name": "stdout",
          "text": [
            "NAME\n"
          ]
        }
      ]
    },
    {
      "cell_type": "code",
      "source": [
        "print(my_list[1][0])\n",
        "print(my_list[1][1])\n",
        "print(my_list[1][2])"
      ],
      "metadata": {
        "colab": {
          "base_uri": "https://localhost:8080/"
        },
        "id": "zPfbyBJOXbDL",
        "outputId": "13ac4d76-30d9-4a0e-e113-7e6742ff999c"
      },
      "execution_count": null,
      "outputs": [
        {
          "output_type": "stream",
          "name": "stdout",
          "text": [
            "AGE\n",
            "NAME\n",
            "KOFI\n"
          ]
        }
      ]
    },
    {
      "cell_type": "code",
      "source": [
        "print(my_list[-1])\n",
        "my_t=my_list[-1]\n",
        "print([my_t])"
      ],
      "metadata": {
        "colab": {
          "base_uri": "https://localhost:8080/"
        },
        "id": "ZKtqYOBCX9cj",
        "outputId": "a0778342-edbe-4170-8de3-773b3a8dfa12"
      },
      "execution_count": null,
      "outputs": [
        {
          "output_type": "stream",
          "name": "stdout",
          "text": [
            "T\n",
            "['T']\n"
          ]
        }
      ]
    }
  ]
}