{
  "nbformat": 4,
  "nbformat_minor": 0,
  "metadata": {
    "colab": {
      "provenance": [],
      "authorship_tag": "ABX9TyO4VB5r6g4U7qfc3nzoGuQk",
      "include_colab_link": true
    },
    "kernelspec": {
      "name": "python3",
      "display_name": "Python 3"
    },
    "language_info": {
      "name": "python"
    }
  },
  "cells": [
    {
      "cell_type": "markdown",
      "metadata": {
        "id": "view-in-github",
        "colab_type": "text"
      },
      "source": [
        "<a href=\"https://colab.research.google.com/github/SelikemVan/Mini_Challenges/blob/main/MINI_CHALLENGE_45%266_for_Learning_resource_2.ipynb\" target=\"_parent\"><img src=\"https://colab.research.google.com/assets/colab-badge.svg\" alt=\"Open In Colab\"/></a>"
      ]
    },
    {
      "cell_type": "code",
      "execution_count": null,
      "metadata": {
        "colab": {
          "base_uri": "https://localhost:8080/"
        },
        "id": "iab8LPu9iNYa",
        "outputId": "e69ac1b3-d0f8-40d3-e838-d4e4de26712b"
      },
      "outputs": [
        {
          "output_type": "stream",
          "name": "stdout",
          "text": [
            "{'Pizza': 10.99, 'Paint': 5.99, 'Book': 14.99, 'Movie': 9.99, 'Guitar': 49.99, 'Sneakers': 25.99}\n"
          ]
        }
      ],
      "source": [
        "#Mini Challenge#4\n",
        "#Create a dictionary with 6 of your favourite items and their prices\n",
        "\n",
        "favorite_items = {\n",
        "    \"Pizza\": 10.99,\n",
        "    \"Paint\": 5.99,\n",
        "    \"Book\": 14.99,\n",
        "    \"Movie\": 9.99,\n",
        "    \"Guitar\": 49.99,\n",
        "    \"Sneakers\": 25.99}\n",
        "print(favorite_items)"
      ]
    },
    {
      "cell_type": "code",
      "source": [
        "#Min Challenge#5\n",
        "#Write a code that takes an input from a student asking him/her about their feedback regarding the course. The code should split the atudent input into words and print them on screen\n",
        "\n",
        "feedback = input(\"Please enter your feedback: \")\n",
        "words = feedback.split()\n",
        "# for word in words:\n",
        "#      print(word)\n",
        "print(words)"
      ],
      "metadata": {
        "colab": {
          "base_uri": "https://localhost:8080/"
        },
        "id": "9VAzqP0X3VCw",
        "outputId": "044c28d9-43e2-4af5-e534-038e4a536126"
      },
      "execution_count": null,
      "outputs": [
        {
          "output_type": "stream",
          "name": "stdout",
          "text": [
            "Please enter your feedback: it was very nice\n",
            "['it', 'was', 'very', 'nice']\n"
          ]
        }
      ]
    },
    {
      "cell_type": "code",
      "source": [
        "#Mini challenge #6\n",
        "#Write a code that prompts a user requesting his/her e-mail and then extracts the user first name (Note that the e-mail is in firstname.lastname@gmail.com\n",
        "\n",
        "email = input(\"Please enter your email address: \")\n",
        "\n",
        "first_name = email.split('.')[0]\n",
        "\n",
        "print(\"Your first name is:\", first_name)\n"
      ],
      "metadata": {
        "colab": {
          "base_uri": "https://localhost:8080/"
        },
        "id": "3v4ysszw7gKg",
        "outputId": "3f70fb88-d0ca-493e-d279-2c5e48b10ad2"
      },
      "execution_count": null,
      "outputs": [
        {
          "output_type": "stream",
          "name": "stdout",
          "text": [
            "Please enter your email address: selikem.Agbemafo@gmail.com\n",
            "Your first name is: selikem\n"
          ]
        }
      ]
    }
  ]
}