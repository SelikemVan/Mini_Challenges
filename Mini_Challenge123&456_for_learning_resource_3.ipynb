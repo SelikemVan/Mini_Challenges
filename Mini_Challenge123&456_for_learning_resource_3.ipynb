{
  "nbformat": 4,
  "nbformat_minor": 0,
  "metadata": {
    "colab": {
      "provenance": [],
      "authorship_tag": "ABX9TyPjg4G+WdtPXL/cM8rz3CH4",
      "include_colab_link": true
    },
    "kernelspec": {
      "name": "python3",
      "display_name": "Python 3"
    },
    "language_info": {
      "name": "python"
    }
  },
  "cells": [
    {
      "cell_type": "markdown",
      "metadata": {
        "id": "view-in-github",
        "colab_type": "text"
      },
      "source": [
        "<a href=\"https://colab.research.google.com/github/SelikemVan/Mini_Challenges/blob/main/Mini_Challenge123%26456_for_learning_resource_3.ipynb\" target=\"_parent\"><img src=\"https://colab.research.google.com/assets/colab-badge.svg\" alt=\"Open In Colab\"/></a>"
      ]
    },
    {
      "cell_type": "code",
      "source": [
        "# Mini Challenge#1\n",
        "# Without executing the code cell, What will this code generate?\n",
        "\n",
        "number_of_males = 15\n",
        "number_of_females = 10\n",
        "\n",
        "print(number_of_males == number_of_females)\n",
        "print(number_of_males != number_of_females)\n",
        "print(number_of_males > number_of_females)\n",
        "print(number_of_males < number_of_females)"
      ],
      "metadata": {
        "colab": {
          "base_uri": "https://localhost:8080/"
        },
        "id": "0-ovE6VwQ850",
        "outputId": "25561d23-8efd-4b48-e1f2-1cf3800d84f3"
      },
      "execution_count": null,
      "outputs": [
        {
          "output_type": "stream",
          "name": "stdout",
          "text": [
            "False\n",
            "True\n",
            "True\n",
            "False\n"
          ]
        }
      ]
    },
    {
      "cell_type": "code",
      "source": [
        "# Mini Challenge#2\n",
        "# Without executing the code cell, What will these two lines of code generate?\n",
        "print('PYTHON'!='PYTHON' and (10 > 3) and (20 == 20))\n",
        "print('Python'!='PYTHON' or (16 > 20) or (25 == 25))"
      ],
      "metadata": {
        "colab": {
          "base_uri": "https://localhost:8080/"
        },
        "id": "WRBueG4FQ8T_",
        "outputId": "c9daf990-3409-47dd-d778-d4f54c92f468"
      },
      "execution_count": null,
      "outputs": [
        {
          "output_type": "stream",
          "name": "stdout",
          "text": [
            "False\n",
            "True\n"
          ]
        }
      ]
    },
    {
      "cell_type": "code",
      "source": [
        "# Mini Challenge#3\n",
        "# Without executing the code cell, What will these two lines of code generate?\n",
        "a = 5\n",
        "b = 3.5\n",
        "\n",
        "print(a == b or a != b)\n",
        "print(a == b and a != b)"
      ],
      "metadata": {
        "colab": {
          "base_uri": "https://localhost:8080/"
        },
        "id": "5gSibWFBQ77r",
        "outputId": "97a196e4-18a2-4180-d438-7c5c5bece947"
      },
      "execution_count": null,
      "outputs": [
        {
          "output_type": "stream",
          "name": "stdout",
          "text": [
            "True\n",
            "False\n"
          ]
        }
      ]
    },
    {
      "cell_type": "code",
      "execution_count": null,
      "metadata": {
        "colab": {
          "base_uri": "https://localhost:8080/"
        },
        "id": "k3UR8OPj_LUX",
        "outputId": "268b6aa2-e530-42cc-ee2c-3fe444585217"
      },
      "outputs": [
        {
          "output_type": "stream",
          "name": "stdout",
          "text": [
            "Enter a number: 5\n",
            "The number is positive.\n"
          ]
        }
      ],
      "source": [
        "#MINI CHALLENGE #4:\n",
        "#Write a code that takes a number from the user and indicates if it's positive or negative\n",
        "num = float(input(\"Enter a number: \"))\n",
        "\n",
        "if num > 0:\n",
        "    print(\"The number is positive.\")\n",
        "elif num == 0:\n",
        "    print(\"The number is zero.\")\n",
        "else:\n",
        "    print(\"The number is negative.\")\n"
      ]
    },
    {
      "cell_type": "code",
      "source": [
        "#MINI CHALLENGE #5:\n",
        "\n",
        "#Write a code that takes a number from the user and checks if the number is divisible by 3 but is not a multiple of 7\n",
        "\n",
        "num = int(input(\"Enter a number: \"))  # take input from user\n",
        "\n",
        "if num % 3 == 0 and num % 7 != 0:\n",
        "    print(f\"{num} is divisible by 3 but is not a multiple of 7.\")\n",
        "else:\n",
        "    print(f\"{num} is not divisible by 3 or is a multiple of 7.\")\n"
      ],
      "metadata": {
        "colab": {
          "base_uri": "https://localhost:8080/"
        },
        "id": "KgWta2MQ_wou",
        "outputId": "2462fe6c-9aad-4ba1-cf42-85601860a21f"
      },
      "execution_count": null,
      "outputs": [
        {
          "output_type": "stream",
          "name": "stdout",
          "text": [
            "Enter a number: 14\n",
            "14 is not divisible by 3 or is a multiple of 7.\n"
          ]
        }
      ]
    },
    {
      "cell_type": "code",
      "source": [
        "# MINI CHALLENGE #6:\n",
        "\n",
        "#Write a code that takes a number from the user and indicate if the number is even or odd\n",
        "num = int(input(\"Enter a number: \"))\n",
        "\n",
        "if num % 2 == 0:\n",
        "    print(num, \"is even\")\n",
        "else:\n",
        "    print(num, \"is odd\")\n"
      ],
      "metadata": {
        "colab": {
          "base_uri": "https://localhost:8080/"
        },
        "id": "2tMcyk3WGqNf",
        "outputId": "2aa32357-f343-412d-b289-4877f40c559e"
      },
      "execution_count": null,
      "outputs": [
        {
          "output_type": "stream",
          "name": "stdout",
          "text": [
            "Enter a number: 10\n",
            "10 is even\n"
          ]
        }
      ]
    }
  ]
}