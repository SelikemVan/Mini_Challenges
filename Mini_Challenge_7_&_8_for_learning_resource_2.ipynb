{
  "nbformat": 4,
  "nbformat_minor": 0,
  "metadata": {
    "colab": {
      "provenance": [],
      "authorship_tag": "ABX9TyMTafxX9E8fmSwsu4TkQVb/",
      "include_colab_link": true
    },
    "kernelspec": {
      "name": "python3",
      "display_name": "Python 3"
    },
    "language_info": {
      "name": "python"
    }
  },
  "cells": [
    {
      "cell_type": "markdown",
      "metadata": {
        "id": "view-in-github",
        "colab_type": "text"
      },
      "source": [
        "<a href=\"https://colab.research.google.com/github/SelikemVan/Mini_Challenges/blob/main/Mini_Challenge_7_%26_8_for_learning_resource_2.ipynb\" target=\"_parent\"><img src=\"https://colab.research.google.com/assets/colab-badge.svg\" alt=\"Open In Colab\"/></a>"
      ]
    },
    {
      "cell_type": "code",
      "execution_count": null,
      "metadata": {
        "colab": {
          "base_uri": "https://localhost:8080/"
        },
        "id": "DcOAqfeU-g5s",
        "outputId": "4b989508-0c64-4685-9f2c-aefca7afc17f"
      },
      "outputs": [
        {
          "output_type": "stream",
          "name": "stdout",
          "text": [
            "Tuple: ('Selikem', 'Agbemafo', 10, 28)\n",
            "Length of tuple: 4\n",
            "Type of tuple: <class 'tuple'>\n"
          ]
        }
      ],
      "source": [
        "#MINI CHALLENGE#7\n",
        "# Define the tuple with first name, last name, age, and number of friends\n",
        "\n",
        "my_tuple = (\"Selikem\", \"Agbemafo\", 10, 28)\n",
        "\n",
        "tuple_length = len(my_tuple)\n",
        "\n",
        "tuple_type = type(my_tuple)\n",
        "\n",
        "print(\"Tuple:\", my_tuple)\n",
        "print(\"Length of tuple:\", tuple_length)\n",
        "print(\"Type of tuple:\", tuple_type)\n"
      ]
    },
    {
      "cell_type": "code",
      "source": [
        "#MINI CHALLEENGE#8\n",
        "#Remove the duplicates from the following list:\n",
        "\n",
        "my_list = ['NAME', 'AGE', 'T', 'SEX', 'T', 'AGE', 5, 6, 5]\n",
        "\n",
        "unique_set = set(my_list)\n",
        "\n",
        "unique_list = list(unique_set)\n",
        "\n",
        "print(\"List without duplicates:\", unique_list)\n"
      ],
      "metadata": {
        "colab": {
          "base_uri": "https://localhost:8080/"
        },
        "id": "Jt-6IrvJB3J_",
        "outputId": "de8ad399-6621-4a31-c9ff-44bec7a38517"
      },
      "execution_count": null,
      "outputs": [
        {
          "output_type": "stream",
          "name": "stdout",
          "text": [
            "List without duplicates: ['SEX', 5, 6, 'AGE', 'T', 'NAME']\n"
          ]
        }
      ]
    }
  ]
}