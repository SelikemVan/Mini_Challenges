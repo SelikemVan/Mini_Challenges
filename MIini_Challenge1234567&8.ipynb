{
  "cells": [
    {
      "cell_type": "markdown",
      "metadata": {
        "id": "view-in-github",
        "colab_type": "text"
      },
      "source": [
        "<a href=\"https://colab.research.google.com/github/SelikemVan/Mini_Challenges/blob/main/MIini_Challenge1234567%268.ipynb\" target=\"_parent\"><img src=\"https://colab.research.google.com/assets/colab-badge.svg\" alt=\"Open In Colab\"/></a>"
      ]
    },
    {
      "cell_type": "code",
      "execution_count": null,
      "metadata": {
        "colab": {
          "base_uri": "https://localhost:8080/"
        },
        "id": "VWZAPMZgx3ff",
        "outputId": "7289390c-73a1-4432-9a9c-72af8e88f7eb"
      },
      "outputs": [
        {
          "name": "stdout",
          "output_type": "stream",
          "text": [
            "Enter a string: The colour of the table is brown\n",
            "*he colour of the table is brown\n"
          ]
        }
      ],
      "source": [
        "# MINI CHALLENGE #1:\n",
        "\n",
        "# Write a code that takes in a string and prints it out on the screen except for any letter 'T'. You can replace the letter 'T' with '*'.\n",
        "\n",
        "string = input(\"Enter a string: \")\n",
        "new_string = \"\"\n",
        "\n",
        "for char in string:\n",
        "    if char == \"T\":\n",
        "        new_string += \"*\"\n",
        "    else:\n",
        "        new_string += char\n",
        "\n",
        "print(new_string)\n"
      ]
    },
    {
      "cell_type": "code",
      "execution_count": null,
      "metadata": {
        "colab": {
          "base_uri": "https://localhost:8080/"
        },
        "id": "uqZgWu-c16Hj",
        "outputId": "ddfecac0-c215-4b6a-d789-a46c83ce0968"
      },
      "outputs": [
        {
          "name": "stdout",
          "output_type": "stream",
          "text": [
            "Enter the minimum limit: 1\n",
            "Enter the maximum limit: 10\n",
            "2\n",
            "4\n",
            "6\n",
            "8\n",
            "10\n"
          ]
        }
      ],
      "source": [
        "# MINI CHALLENGE #2:\n",
        "\n",
        "# Write a code that takes in the maximum and minimum limits from the user and prints out even numbers only between the provided range\n",
        "\n",
        "minimum = int(input(\"Enter the minimum limit: \"))\n",
        "maximum = int(input(\"Enter the maximum limit: \"))\n",
        "\n",
        "for i in range(minimum, maximum+1):\n",
        "    if i%2 == 0:\n",
        "        print(i)\n"
      ]
    },
    {
      "cell_type": "code",
      "execution_count": null,
      "metadata": {
        "colab": {
          "base_uri": "https://localhost:8080/"
        },
        "id": "jUsok8UJ5FOf",
        "outputId": "2556d48a-19e3-4818-856f-3285af5a2b45"
      },
      "outputs": [
        {
          "name": "stdout",
          "output_type": "stream",
          "text": [
            "1 1 1\n",
            "2 4 8\n",
            "3 9 27\n",
            "4 16 64\n",
            "5 25 125\n",
            "6 36 216\n",
            "7 49 343\n",
            "8 64 512\n",
            "9 81 729\n",
            "10 100 1000\n"
          ]
        }
      ],
      "source": [
        "# MINI CHALLENGE #3:\n",
        "\n",
        "# Write a code that generates the following table:\n",
        "\n",
        "for num in range(1, 11):\n",
        "    square = num ** 2\n",
        "    cube = num ** 3\n",
        "    print(num, square, cube)\n"
      ]
    },
    {
      "cell_type": "code",
      "execution_count": null,
      "metadata": {
        "colab": {
          "base_uri": "https://localhost:8080/"
        },
        "id": "utaDVXtP5rrF",
        "outputId": "02928fd6-aad3-417f-cdaf-76ae24b48da5"
      },
      "outputs": [
        {
          "name": "stdout",
          "output_type": "stream",
          "text": [
            "1\n",
            "2\n",
            "3\n",
            "4\n",
            "5\n",
            "6\n",
            "7\n",
            "8\n",
            "9\n",
            "10\n",
            "11\n",
            "12\n",
            "13\n",
            "14\n",
            "15\n",
            "16\n",
            "17\n",
            "18\n",
            "19\n",
            "20\n",
            "21\n",
            "22\n",
            "23\n",
            "24\n",
            "25\n",
            "26\n",
            "27\n",
            "28\n",
            "29\n",
            "30\n",
            "1\n",
            "2\n",
            "3\n",
            "4\n",
            "5\n",
            "6\n",
            "7\n",
            "8\n",
            "9\n",
            "10\n",
            "11\n",
            "12\n",
            "13\n",
            "14\n",
            "15\n",
            "16\n",
            "17\n",
            "18\n",
            "19\n",
            "20\n",
            "21\n",
            "22\n",
            "23\n",
            "24\n",
            "25\n",
            "26\n",
            "27\n",
            "28\n",
            "29\n",
            "30\n"
          ]
        }
      ],
      "source": [
        "# MINI CHALLENGE #4:\n",
        "# Write a code that displays numbers from 1 to 30 using for and while loops\n",
        "\n",
        "# Using for loop\n",
        "for num in range(1, 31):\n",
        "    print(num)\n",
        "# Using while loop\n",
        "num = 1\n",
        "while num <= 30:\n",
        "    print(num)\n",
        "    num += 1\n"
      ]
    },
    {
      "cell_type": "code",
      "execution_count": null,
      "metadata": {
        "colab": {
          "base_uri": "https://localhost:8080/"
        },
        "id": "xlMyMbCc6Xfk",
        "outputId": "4b84f3ff-e278-4ff7-9764-e3226a54324e"
      },
      "outputs": [
        {
          "name": "stdout",
          "output_type": "stream",
          "text": [
            "Dice 1: 1\n",
            "Dice 2: 5\n",
            "Do you want to keep playing? (y/n) y\n",
            "Dice 1: 2\n",
            "Dice 2: 6\n",
            "Do you want to keep playing? (y/n) y\n",
            "Dice 1: 4\n",
            "Dice 2: 3\n",
            "Do you want to keep playing? (y/n) y\n",
            "Dice 1: 4\n",
            "Dice 2: 6\n",
            "Do you want to keep playing? (y/n) n\n",
            "Thanks for playing!\n"
          ]
        }
      ],
      "source": [
        "# MINI CHALLENGE #5\n",
        "\n",
        "import random\n",
        "\n",
        "while True:\n",
        "    # roll the dice and generate random numbers between 1 and 6\n",
        "    dice1 = random.randint(1, 6)\n",
        "    dice2 = random.randint(1, 6)\n",
        "\n",
        "    print(\"Dice 1:\", dice1)\n",
        "    print(\"Dice 2:\", dice2)\n",
        "\n",
        "    # ask the user if they want to continue or exit the game\n",
        "    play_again = input(\"Do you want to keep playing? (y/n) \").lower()\n",
        "\n",
        "    # if the user wants to exit, break out of the loop\n",
        "    if play_again == 'n':\n",
        "        print(\"Thanks for playing!\")\n",
        "        break\n"
      ]
    },
    {
      "cell_type": "code",
      "execution_count": null,
      "metadata": {
        "colab": {
          "base_uri": "https://localhost:8080/"
        },
        "id": "iXPC3zQv2eU_",
        "outputId": "6e4ffecd-af26-4a49-8fb5-20c34a16b1f2"
      },
      "outputs": [
        {
          "name": "stdout",
          "output_type": "stream",
          "text": [
            "Enter a number (or 'e' to exit): 5\n",
            "Current average: 5.0\n",
            "Enter a number (or 'e' to exit): e\n"
          ]
        }
      ],
      "source": [
        "# MINI CHALLENGE #6:\n",
        "\n",
        "# Write a code that continiously gets data from the user and calculates the average and print out on the screen. The code exits when the user enters 'e'.\n",
        "\n",
        "total = 0\n",
        "count = 0\n",
        "\n",
        "while True:\n",
        "    num = input(\"Enter a number (or 'e' to exit): \")\n",
        "\n",
        "    if num == 'e':\n",
        "        break\n",
        "\n",
        "    total += int(num)\n",
        "    count += 1\n",
        "    average = total / count\n",
        "\n",
        "    print(f\"Current average: {average}\")\n"
      ]
    },
    {
      "cell_type": "code",
      "execution_count": null,
      "metadata": {
        "colab": {
          "background_save": true,
          "base_uri": "https://localhost:8080/"
        },
        "id": "KS1DenOT5XFC",
        "outputId": "d776d840-57ea-4dcc-803d-fd6cfbddea72"
      },
      "outputs": [
        {
          "name": "stdout",
          "output_type": "stream",
          "text": [
            "1 x 1 = 1\n",
            "1 x 2 = 2\n",
            "1 x 3 = 3\n",
            "1 x 4 = 4\n",
            "1 x 5 = 5\n",
            "1 x 6 = 6\n",
            "1 x 7 = 7\n",
            "1 x 8 = 8\n",
            "1 x 9 = 9\n",
            "1 x 10 = 10\n",
            "1 x 11 = 11\n",
            "1 x 12 = 12\n",
            "\n",
            "2 x 1 = 2\n",
            "2 x 2 = 4\n",
            "2 x 3 = 6\n",
            "2 x 4 = 8\n",
            "2 x 5 = 10\n",
            "2 x 6 = 12\n",
            "2 x 7 = 14\n",
            "2 x 8 = 16\n",
            "2 x 9 = 18\n",
            "2 x 10 = 20\n",
            "2 x 11 = 22\n",
            "2 x 12 = 24\n",
            "\n",
            "3 x 1 = 3\n",
            "3 x 2 = 6\n",
            "3 x 3 = 9\n",
            "3 x 4 = 12\n",
            "3 x 5 = 15\n",
            "3 x 6 = 18\n",
            "3 x 7 = 21\n",
            "3 x 8 = 24\n",
            "3 x 9 = 27\n",
            "3 x 10 = 30\n",
            "3 x 11 = 33\n",
            "3 x 12 = 36\n",
            "\n",
            "4 x 1 = 4\n",
            "4 x 2 = 8\n",
            "4 x 3 = 12\n",
            "4 x 4 = 16\n",
            "4 x 5 = 20\n",
            "4 x 6 = 24\n",
            "4 x 7 = 28\n",
            "4 x 8 = 32\n",
            "4 x 9 = 36\n",
            "4 x 10 = 40\n",
            "4 x 11 = 44\n",
            "4 x 12 = 48\n",
            "\n",
            "5 x 1 = 5\n",
            "5 x 2 = 10\n",
            "5 x 3 = 15\n",
            "5 x 4 = 20\n",
            "5 x 5 = 25\n",
            "5 x 6 = 30\n",
            "5 x 7 = 35\n",
            "5 x 8 = 40\n",
            "5 x 9 = 45\n",
            "5 x 10 = 50\n",
            "5 x 11 = 55\n",
            "5 x 12 = 60\n",
            "\n"
          ]
        }
      ],
      "source": [
        "# MINI CHALLENGE #7:\n",
        "\n",
        "# Write a code that takes in a number (range between 1 and 9) from the user and print out the multiplication table up until that number.\n",
        "num = int(input(\"Enter a number between 1 and 9: \"))\n",
        "\n",
        "if num < 1 or num > 9:\n",
        "    print(\"Invalid input! Number must be between 1 and 9.\")\n",
        "else:\n",
        "\n",
        "    for i in range(1, num+1):\n",
        "        for j in range(1, 13):\n",
        "            print(f\"{i} x {j} = {i*j}\")\n",
        "        print()\n",
        "\n"
      ]
    },
    {
      "cell_type": "code",
      "execution_count": null,
      "metadata": {
        "colab": {
          "base_uri": "https://localhost:8080/"
        },
        "id": "Rtm29opK73QE",
        "outputId": "330063eb-8f0f-449c-db3a-27337859b6e4"
      },
      "outputs": [
        {
          "output_type": "stream",
          "name": "stdout",
          "text": [
            "[0.03571428571428571, 0.07142857142857142, 0.10714285714285714, 0.14285714285714285, 0.17857142857142858, 0.21428571428571427, 0.25]\n"
          ]
        }
      ],
      "source": [
        "# MINI CHALLENGE #8:\n",
        "\n",
        "# Write a code that takes in a list of prices of 7 items and then divide each price by the sum of all the prices\n",
        "prices = [10, 20, 30, 40, 50, 60, 70]\n",
        "total_price = sum(prices)\n",
        "prices_normalized = [price / total_price for price in prices]\n",
        "\n",
        "print(prices_normalized)\n"
      ]
    }
  ],
  "metadata": {
    "colab": {
      "provenance": [],
      "authorship_tag": "ABX9TyOMhRjVvvapD7ZZRSJMETGF",
      "include_colab_link": true
    },
    "kernelspec": {
      "display_name": "Python 3",
      "name": "python3"
    },
    "language_info": {
      "name": "python"
    }
  },
  "nbformat": 4,
  "nbformat_minor": 0
}